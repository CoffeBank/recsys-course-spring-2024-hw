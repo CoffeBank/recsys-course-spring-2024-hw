{
 "cells": [
  {
   "cell_type": "markdown",
   "metadata": {},
   "source": [
    "## Домашнее задание 1\n",
    "\n",
    "### Обучаем LightFM бейзлайн"
   ]
  },
  {
   "cell_type": "code",
   "execution_count": 1,
   "metadata": {
    "tags": []
   },
   "outputs": [
    {
     "name": "stderr",
     "output_type": "stream",
     "text": [
      "/Users/n.anokhin/Projects/virtualenv/recsys-course/lib/python3.8/site-packages/lightfm/_lightfm_fast.py:9: UserWarning: LightFM was compiled without OpenMP support. Only a single thread will be used.\n",
      "  warnings.warn(\n"
     ]
    }
   ],
   "source": [
    "import pandas as pd\n",
    "import numpy as np\n",
    "import scipy.stats as ss\n",
    "import scipy.special as sp\n",
    "\n",
    "import lightfm\n",
    "import lightfm.data as ld\n",
    "import lightfm.evaluation as lv\n",
    "\n",
    "import tqdm\n",
    "import json\n",
    "import optuna\n",
    "\n",
    "import tensorboardX as tb\n",
    "\n",
    "import matplotlib.pyplot as pl\n",
    "import seaborn as sns\n",
    "\n",
    "np.random.seed(31337)"
   ]
  },
  {
   "cell_type": "code",
   "execution_count": 2,
   "metadata": {
    "tags": []
   },
   "outputs": [
    {
     "data": {
      "text/html": [
       "<div>\n",
       "<style scoped>\n",
       "    .dataframe tbody tr th:only-of-type {\n",
       "        vertical-align: middle;\n",
       "    }\n",
       "\n",
       "    .dataframe tbody tr th {\n",
       "        vertical-align: top;\n",
       "    }\n",
       "\n",
       "    .dataframe thead th {\n",
       "        text-align: right;\n",
       "    }\n",
       "</style>\n",
       "<table border=\"1\" class=\"dataframe\">\n",
       "  <thead>\n",
       "    <tr style=\"text-align: right;\">\n",
       "      <th></th>\n",
       "      <th>user</th>\n",
       "      <th>track</th>\n",
       "      <th>time</th>\n",
       "      <th>test</th>\n",
       "    </tr>\n",
       "  </thead>\n",
       "  <tbody>\n",
       "    <tr>\n",
       "      <th>9</th>\n",
       "      <td>1800</td>\n",
       "      <td>1690</td>\n",
       "      <td>1.00</td>\n",
       "      <td>False</td>\n",
       "    </tr>\n",
       "    <tr>\n",
       "      <th>22</th>\n",
       "      <td>5281</td>\n",
       "      <td>24632</td>\n",
       "      <td>0.95</td>\n",
       "      <td>True</td>\n",
       "    </tr>\n",
       "    <tr>\n",
       "      <th>23</th>\n",
       "      <td>5281</td>\n",
       "      <td>20685</td>\n",
       "      <td>0.83</td>\n",
       "      <td>False</td>\n",
       "    </tr>\n",
       "    <tr>\n",
       "      <th>24</th>\n",
       "      <td>5281</td>\n",
       "      <td>25561</td>\n",
       "      <td>0.80</td>\n",
       "      <td>False</td>\n",
       "    </tr>\n",
       "    <tr>\n",
       "      <th>34</th>\n",
       "      <td>3655</td>\n",
       "      <td>34077</td>\n",
       "      <td>0.80</td>\n",
       "      <td>False</td>\n",
       "    </tr>\n",
       "  </tbody>\n",
       "</table>\n",
       "</div>"
      ],
      "text/plain": [
       "    user  track  time   test\n",
       "9   1800   1690  1.00  False\n",
       "22  5281  24632  0.95   True\n",
       "23  5281  20685  0.83  False\n",
       "24  5281  25561  0.80  False\n",
       "34  3655  34077  0.80  False"
      ]
     },
     "execution_count": 2,
     "metadata": {},
     "output_type": "execute_result"
    }
   ],
   "source": [
    "data = pd.read_csv(\"/Users/n.anokhin/Downloads/train.csv\")\n",
    "\n",
    "data = data[data[\"time\"] > 0.75].copy()\n",
    "\n",
    "data[\"test\"] = np.random.random(len(data)) > 0.8\n",
    "\n",
    "data.head()"
   ]
  },
  {
   "cell_type": "code",
   "execution_count": 3,
   "metadata": {
    "tags": []
   },
   "outputs": [
    {
     "data": {
      "text/plain": [
       "9283"
      ]
     },
     "execution_count": 3,
     "metadata": {},
     "output_type": "execute_result"
    }
   ],
   "source": [
    "user_counts = data.loc[~data[\"test\"], \"user\"].value_counts()\n",
    "users = set(user_counts[user_counts >= 5].index.values)\n",
    "\n",
    "len(users)"
   ]
  },
  {
   "cell_type": "code",
   "execution_count": 4,
   "metadata": {
    "tags": []
   },
   "outputs": [
    {
     "data": {
      "text/plain": [
       "10356"
      ]
     },
     "execution_count": 4,
     "metadata": {},
     "output_type": "execute_result"
    }
   ],
   "source": [
    "track_counts = data.loc[~data[\"test\"], \"track\"].value_counts()\n",
    "tracks = set(track_counts[track_counts >= 3].index.values)\n",
    "\n",
    "len(tracks)"
   ]
  },
  {
   "cell_type": "code",
   "execution_count": 5,
   "metadata": {
    "tags": []
   },
   "outputs": [
    {
     "data": {
      "text/plain": [
       "(73750, 14904)"
      ]
     },
     "execution_count": 5,
     "metadata": {},
     "output_type": "execute_result"
    }
   ],
   "source": [
    "train_data = data[~data[\"test\"] & data[\"user\"].isin(users) & data[\"track\"].isin(tracks)]\n",
    "test_data = data[data[\"test\"] & data[\"user\"].isin(users) & data[\"track\"].isin(tracks)]\n",
    "\n",
    "len(train_data), len(test_data)"
   ]
  },
  {
   "cell_type": "code",
   "execution_count": 6,
   "metadata": {
    "tags": []
   },
   "outputs": [],
   "source": [
    "dataset = ld.Dataset()\n",
    "dataset.fit(users, tracks)"
   ]
  },
  {
   "cell_type": "code",
   "execution_count": 7,
   "metadata": {
    "tags": []
   },
   "outputs": [],
   "source": [
    "train_interactions, _ = dataset.build_interactions(train_data[[\"user\", \"track\"]].itertuples(index=False, name=None))\n",
    "test_interactions, _ = dataset.build_interactions(test_data[[\"user\", \"track\"]].itertuples(index=False, name=None))"
   ]
  },
  {
   "cell_type": "code",
   "execution_count": 8,
   "metadata": {
    "tags": []
   },
   "outputs": [],
   "source": [
    "def fit_model(epochs=1, at=10, loss=\"warp\", no_components=30, learning_rate=0.01, max_sampled=10, user_alpha=0.0, item_alpha=0.0, threads=30, verbose=False):\n",
    "    model = lightfm.LightFM(\n",
    "        no_components=no_components,\n",
    "        loss=loss,\n",
    "        learning_rate=learning_rate,\n",
    "        max_sampled=max_sampled,\n",
    "        user_alpha=user_alpha,\n",
    "        item_alpha=user_alpha,\n",
    "    )\n",
    "\n",
    "    precisions_at = []\n",
    "    for epoch in range(epochs):\n",
    "        model = model.fit_partial(train_interactions, num_threads=threads)\n",
    "        precision_at = lv.precision_at_k(model, test_interactions, train_interactions=train_interactions, k=at, num_threads=threads)\n",
    "        if verbose:\n",
    "            print(f\"{epoch}:\\t{np.mean(precision_at)} +/- {ss.sem(precision_at) * 1.96}\")\n",
    "        precisions_at.append(np.mean(precision_at))\n",
    "            \n",
    "    return model, precisions_at\n",
    "\n",
    "\n",
    "def objective(trial):\n",
    "    loss = trial.suggest_categorical(\"loss\", [\"warp\", \"bpr\"])\n",
    "    no_components = trial.suggest_categorical(\"no_components\", [10, 30, 50])\n",
    "    learning_rate = trial.suggest_categorical(\"learning_rate\", [0.001, 0.01])\n",
    "    max_sampled = trial.suggest_categorical(\"max_sampled\", [10, 20, 50, 100])\n",
    "    user_alpha = trial.suggest_categorical(\"user_alpha\", [0.0, 0.001, 0.01])\n",
    "    item_alpha = trial.suggest_categorical(\"item_alpha\", [0.0, 0.001, 0.01])\n",
    "    \n",
    "    model, precisions_at = fit_model(\n",
    "        epochs=1, \n",
    "        at=10,\n",
    "        loss=loss,\n",
    "        no_components=no_components, \n",
    "        learning_rate=learning_rate, \n",
    "        max_sampled=max_sampled, \n",
    "        user_alpha=user_alpha, \n",
    "        item_alpha=item_alpha,\n",
    "    )\n",
    "    \n",
    "    return precisions_at[-1]\n"
   ]
  },
  {
   "cell_type": "raw",
   "metadata": {
    "tags": []
   },
   "source": [
    "study = optuna.create_study(direction=\"maximize\")\n",
    "study.optimize(objective, n_trials=30)\n",
    "best_params = study.best_params\n",
    "\n",
    "best_params"
   ]
  },
  {
   "cell_type": "code",
   "execution_count": 9,
   "metadata": {
    "tags": []
   },
   "outputs": [],
   "source": [
    "best_params = {'loss': 'warp',\n",
    " 'no_components': 50,\n",
    " 'learning_rate': 0.01,\n",
    " 'max_sampled': 100,\n",
    " 'user_alpha': 0.0,\n",
    " 'item_alpha': 0.01}"
   ]
  },
  {
   "cell_type": "code",
   "execution_count": 10,
   "metadata": {
    "tags": []
   },
   "outputs": [
    {
     "name": "stdout",
     "output_type": "stream",
     "text": [
      "0:\t0.006176389753818512 +/- 0.0006045188032579963\n",
      "1:\t0.00609422056004405 +/- 0.0006001740523420476\n",
      "2:\t0.006792659871280193 +/- 0.0006365482412164153\n",
      "3:\t0.00799780897796154 +/- 0.0007027196158184394\n",
      "4:\t0.008709941990673542 +/- 0.0007461440543697905\n",
      "5:\t0.009380991570651531 +/- 0.0007857214262907514\n",
      "6:\t0.010572446510195732 +/- 0.000822306113102706\n",
      "7:\t0.0118734585121274 +/- 0.0008756417703569168\n",
      "8:\t0.013105997815728188 +/- 0.0009133109466447597\n",
      "9:\t0.01416050549596548 +/- 0.0009451077986944669\n",
      "10:\t0.014941113069653511 +/- 0.0009656280792730182\n",
      "11:\t0.016105176880955696 +/- 0.000999585792838305\n",
      "12:\t0.016776226460933685 +/- 0.0010198845955787298\n",
      "13:\t0.01746097020804882 +/- 0.0010397850458186352\n",
      "14:\t0.01829635724425316 +/- 0.0010594158262834143\n",
      "15:\t0.018940014764666557 +/- 0.00107611809210849\n",
      "16:\t0.019487814977765083 +/- 0.0010889746584503244\n",
      "17:\t0.020145166665315628 +/- 0.0011050599991244458\n",
      "18:\t0.02084360457956791 +/- 0.0011225588845038632\n",
      "19:\t0.021555738523602486 +/- 0.0011353094969416555\n",
      "20:\t0.022158313542604446 +/- 0.0011444020508423972\n",
      "21:\t0.022665023803710938 +/- 0.0011570561085127965\n",
      "22:\t0.023431938141584396 +/- 0.0011719646772784767\n",
      "23:\t0.024048207327723503 +/- 0.0011834777652063976\n",
      "24:\t0.0243768822401762 +/- 0.0011890595706753855\n",
      "25:\t0.02478772960603237 +/- 0.0011966862010456877\n",
      "26:\t0.025445086881518364 +/- 0.0012128022170839632\n",
      "27:\t0.025992879644036293 +/- 0.0012262226461780342\n",
      "28:\t0.026431115344166756 +/- 0.0012324431657056625\n",
      "29:\t0.02677348628640175 +/- 0.0012370240485682406\n",
      "30:\t0.027252808213233948 +/- 0.0012428618523408655\n",
      "31:\t0.02766365371644497 +/- 0.0012502394910366688\n",
      "32:\t0.027951247990131378 +/- 0.001254072373515389\n",
      "33:\t0.028307313099503517 +/- 0.0012579085029685879\n",
      "34:\t0.02864968590438366 +/- 0.001263840981681276\n",
      "35:\t0.02906053327023983 +/- 0.0012725591081566047\n",
      "36:\t0.02934812568128109 +/- 0.00127502954305472\n",
      "37:\t0.029553547501564026 +/- 0.0012767703486087911\n",
      "38:\t0.029909612610936165 +/- 0.0012831151076335783\n",
      "39:\t0.03027937561273575 +/- 0.001287809634602911\n",
      "40:\t0.030457407236099243 +/- 0.0012869990872369896\n",
      "41:\t0.030608052387833595 +/- 0.001289874624924672\n",
      "42:\t0.03100520372390747 +/- 0.0012963199547116023\n",
      "43:\t0.03138866275548935 +/- 0.0013020134390133186\n",
      "44:\t0.03179950639605522 +/- 0.0013083744329104993\n",
      "45:\t0.032141879200935364 +/- 0.0013136002674405847\n",
      "46:\t0.03238838538527489 +/- 0.0013186331633292777\n",
      "47:\t0.03259380906820297 +/- 0.0013227940756770438\n",
      "48:\t0.032771844416856766 +/- 0.001322386153146482\n",
      "49:\t0.032990962266922 +/- 0.0013249658743698148\n",
      "50:\t0.033182691782712936 +/- 0.0013278820846851778\n",
      "51:\t0.033374421298503876 +/- 0.0013318597993149878\n",
      "52:\t0.03368940204381943 +/- 0.001338760645442602\n",
      "53:\t0.0339496023952961 +/- 0.0013398764938562188\n",
      "54:\t0.034072861075401306 +/- 0.0013395748670164862\n",
      "55:\t0.03429197520017624 +/- 0.0013436197427499873\n",
      "56:\t0.03445631265640259 +/- 0.0013435526670929929\n",
      "57:\t0.03463434800505638 +/- 0.0013446298935996521\n",
      "58:\t0.03482607379555702 +/- 0.001346845441001189\n",
      "59:\t0.0349082425236702 +/- 0.001345725747486216\n",
      "60:\t0.03518214076757431 +/- 0.001350531526054793\n",
      "61:\t0.03522322699427605 +/- 0.0013502347696767783\n",
      "62:\t0.03544234856963158 +/- 0.0013525525113276976\n",
      "63:\t0.03544234111905098 +/- 0.0013525525113276976\n",
      "64:\t0.035483431071043015 +/- 0.0013527848408963188\n",
      "65:\t0.035675156861543655 +/- 0.0013581110752951537\n",
      "66:\t0.03582580015063286 +/- 0.0013600026942690911\n",
      "67:\t0.03612709045410156 +/- 0.0013642798141245164\n",
      "68:\t0.036181870847940445 +/- 0.001366682917025547\n",
      "69:\t0.03625034540891647 +/- 0.0013681001359388057\n",
      "70:\t0.036442071199417114 +/- 0.0013717356365478993\n",
      "71:\t0.03660640865564346 +/- 0.001374683120354294\n",
      "72:\t0.036661189049482346 +/- 0.0013781043206477928\n",
      "73:\t0.036784444004297256 +/- 0.001379773863656726\n",
      "74:\t0.0367981381714344 +/- 0.00137984281914105\n",
      "75:\t0.03688030689954758 +/- 0.0013818204829386732\n",
      "76:\t0.03690769523382187 +/- 0.0013803920705081324\n",
      "77:\t0.037113118916749954 +/- 0.0013824516776879943\n",
      "78:\t0.0371268168091774 +/- 0.0013825187533449885\n",
      "79:\t0.037113118916749954 +/- 0.0013819302819440716\n",
      "80:\t0.037263765931129456 +/- 0.0013826648671965305\n",
      "81:\t0.03744180127978325 +/- 0.0013871626104231143\n",
      "82:\t0.03744180127978325 +/- 0.0013866430945065212\n",
      "83:\t0.037551358342170715 +/- 0.0013882013004695134\n",
      "84:\t0.037619832903146744 +/- 0.0013900795043120518\n",
      "85:\t0.03767460957169533 +/- 0.0013913718001545771\n",
      "86:\t0.03781156241893768 +/- 0.0013935585520192897\n",
      "87:\t0.03792111575603485 +/- 0.0013945771620919388\n",
      "88:\t0.03804437071084976 +/- 0.0013956524233245716\n",
      "89:\t0.038126543164253235 +/- 0.0013965373947634131\n",
      "90:\t0.03818131983280182 +/- 0.0013962659306076537\n",
      "91:\t0.038318272680044174 +/- 0.0013999638927521137\n",
      "92:\t0.0383867472410202 +/- 0.0014007781997726948\n",
      "93:\t0.038414135575294495 +/- 0.001402439796238825\n",
      "94:\t0.03840043768286705 +/- 0.0014034074800801763\n",
      "95:\t0.03842782974243164 +/- 0.001404039785636556\n",
      "96:\t0.03849630430340767 +/- 0.0014058744116637225\n",
      "97:\t0.03855108097195625 +/- 0.001407134237761461\n",
      "98:\t0.03846891224384308 +/- 0.0014072932540642206\n",
      "99:\t0.03848261013627052 +/- 0.0014037636219124724\n",
      "100:\t0.03844152390956879 +/- 0.0014035858927831115\n",
      "101:\t0.03852369636297226 +/- 0.0014039406674682588\n",
      "102:\t0.038633257150650024 +/- 0.0014064604051104324\n",
      "103:\t0.038605865091085434 +/- 0.0014058313465285313\n",
      "104:\t0.03868803009390831 +/- 0.0014066926492323566\n",
      "105:\t0.03881128877401352 +/- 0.0014061868902339497\n",
      "106:\t0.038797587156295776 +/- 0.0014071539759484236\n",
      "107:\t0.038797590881586075 +/- 0.0014061294700536946\n",
      "108:\t0.03877020627260208 +/- 0.0014029359852071894\n",
      "109:\t0.03874281421303749 +/- 0.001399220250149793\n",
      "110:\t0.038866061717271805 +/- 0.0014002538133943837\n",
      "111:\t0.038961928337812424 +/- 0.0014001385458003895\n",
      "112:\t0.038989320397377014 +/- 0.001401795015464711\n",
      "113:\t0.038948237895965576 +/- 0.0013995668219520467\n",
      "114:\t0.03897562995553017 +/- 0.00140019528240707\n",
      "115:\t0.03905779495835304 +/- 0.0014031046569866886\n",
      "116:\t0.03907148540019989 +/- 0.0014041873520819438\n",
      "117:\t0.03909887745976448 +/- 0.0014032728160860068\n",
      "118:\t0.039112575352191925 +/- 0.0014043553402878683\n",
      "119:\t0.039181046187877655 +/- 0.0014036074253507072\n",
      "120:\t0.039208438247442245 +/- 0.0014011492093302356\n",
      "121:\t0.03923582658171654 +/- 0.0014002312554664263\n",
      "122:\t0.03915366157889366 +/- 0.0013968056973913904\n",
      "123:\t0.03922213241457939 +/- 0.001400175800560198\n",
      "124:\t0.03922213241457939 +/- 0.0013991461678636605\n",
      "125:\t0.03913995996117592 +/- 0.001396749729804981\n",
      "126:\t0.039181046187877655 +/- 0.001397948803301289\n",
      "127:\t0.039181046187877655 +/- 0.0013984641323297384\n",
      "128:\t0.03915366157889366 +/- 0.0013993826843204254\n",
      "129:\t0.03915366157889366 +/- 0.0014009267061317473\n",
      "130:\t0.03923582658171654 +/- 0.0014017742519173866\n",
      "131:\t0.03913995996117592 +/- 0.0013988118149390503\n",
      "132:\t0.039181046187877655 +/- 0.0013994943631531534\n",
      "133:\t0.03926321864128113 +/- 0.0014013706017216652\n",
      "134:\t0.0391947440803051 +/- 0.0014000647198543473\n",
      "135:\t0.03931799158453941 +/- 0.0014031325126098479\n",
      "136:\t0.039276912808418274 +/- 0.0014014258857345\n",
      "137:\t0.039331693202257156 +/- 0.0014021597874133848\n",
      "138:\t0.03935908153653145 +/- 0.0014058617655525948\n",
      "139:\t0.039345383644104004 +/- 0.0013996427840655091\n",
      "140:\t0.03948234021663666 +/- 0.0014037854962668554\n",
      "141:\t0.03948233649134636 +/- 0.001402758512417919\n",
      "142:\t0.03944125026464462 +/- 0.0014015682399313822\n",
      "143:\t0.039468638598918915 +/- 0.0014001335898919747\n",
      "144:\t0.039400167763233185 +/- 0.001398316480437654\n",
      "145:\t0.03931799530982971 +/- 0.0013969562544711661\n",
      "146:\t0.039249520748853683 +/- 0.0013956475528628534\n",
      "147:\t0.03923582658171654 +/- 0.0013976558065779338\n",
      "148:\t0.03926321864128113 +/- 0.001397766630943694\n",
      "149:\t0.0391947440803051 +/- 0.0013964573312085036\n"
     ]
    }
   ],
   "source": [
    "model, precisions_at = fit_model(\n",
    "    epochs=150,\n",
    "    at=10,\n",
    "    loss=best_params[\"loss\"],\n",
    "    no_components=best_params[\"no_components\"], \n",
    "    learning_rate=best_params[\"learning_rate\"], \n",
    "    max_sampled=best_params[\"max_sampled\"],\n",
    "    user_alpha=best_params[\"user_alpha\"],\n",
    "    item_alpha=best_params[\"item_alpha\"],\n",
    "    verbose=True,\n",
    ")"
   ]
  },
  {
   "cell_type": "code",
   "execution_count": 11,
   "metadata": {
    "tags": []
   },
   "outputs": [
    {
     "data": {
      "image/png": "[encoded data removed]",
      "text/plain": [
       "<Figure size 640x480 with 1 Axes>"
      ]
     },
     "metadata": {},
     "output_type": "display_data"
    }
   ],
   "source": [
    "figure, ax = pl.subplots()\n",
    "\n",
    "ax.plot(np.arange(len(precisions_at)), precisions_at)\n",
    "\n",
    "pass"
   ]
  },
  {
   "cell_type": "markdown",
   "metadata": {},
   "source": [
    "### Готовим данные для сабмита"
   ]
  },
  {
   "cell_type": "code",
   "execution_count": 12,
   "metadata": {
    "tags": []
   },
   "outputs": [
    {
     "data": {
      "text/html": [
       "<div>\n",
       "<style scoped>\n",
       "    .dataframe tbody tr th:only-of-type {\n",
       "        vertical-align: middle;\n",
       "    }\n",
       "\n",
       "    .dataframe tbody tr th {\n",
       "        vertical-align: top;\n",
       "    }\n",
       "\n",
       "    .dataframe thead th {\n",
       "        text-align: right;\n",
       "    }\n",
       "</style>\n",
       "<table border=\"1\" class=\"dataframe\">\n",
       "  <thead>\n",
       "    <tr style=\"text-align: right;\">\n",
       "      <th></th>\n",
       "      <th>user</th>\n",
       "      <th>track</th>\n",
       "    </tr>\n",
       "  </thead>\n",
       "  <tbody>\n",
       "    <tr>\n",
       "      <th>0</th>\n",
       "      <td>1</td>\n",
       "      <td>4218</td>\n",
       "    </tr>\n",
       "    <tr>\n",
       "      <th>1</th>\n",
       "      <td>1</td>\n",
       "      <td>19007</td>\n",
       "    </tr>\n",
       "    <tr>\n",
       "      <th>2</th>\n",
       "      <td>1</td>\n",
       "      <td>346</td>\n",
       "    </tr>\n",
       "    <tr>\n",
       "      <th>3</th>\n",
       "      <td>1</td>\n",
       "      <td>8822</td>\n",
       "    </tr>\n",
       "    <tr>\n",
       "      <th>4</th>\n",
       "      <td>1</td>\n",
       "      <td>29271</td>\n",
       "    </tr>\n",
       "  </tbody>\n",
       "</table>\n",
       "</div>"
      ],
      "text/plain": [
       "   user  track\n",
       "0     1   4218\n",
       "1     1  19007\n",
       "2     1    346\n",
       "3     1   8822\n",
       "4     1  29271"
      ]
     },
     "execution_count": 12,
     "metadata": {},
     "output_type": "execute_result"
    }
   ],
   "source": [
    "submit_data = pd.read_csv(\"/Users/n.anokhin/Downloads/test.csv\")\n",
    "submit_data.head()"
   ]
  },
  {
   "cell_type": "code",
   "execution_count": 13,
   "metadata": {
    "tags": []
   },
   "outputs": [],
   "source": [
    "filtered_submit_data = submit_data[submit_data[\"user\"].isin(users) & submit_data[\"track\"].isin(tracks)].copy()"
   ]
  },
  {
   "cell_type": "code",
   "execution_count": 14,
   "metadata": {
    "tags": []
   },
   "outputs": [],
   "source": [
    "filtered_submit_data[\"score\"] = model.predict(\n",
    "    filtered_submit_data[\"user\"].map(dataset.mapping()[0]).values,\n",
    "    filtered_submit_data[\"track\"].map(dataset.mapping()[2]).values,\n",
    ")"
   ]
  },
  {
   "cell_type": "code",
   "execution_count": 25,
   "metadata": {
    "tags": []
   },
   "outputs": [
    {
     "data": {
      "text/plain": [
       "<Axes: xlabel='score', ylabel='Count'>"
      ]
     },
     "execution_count": 25,
     "metadata": {},
     "output_type": "execute_result"
    },
    {
     "data": {
      "image/png": "[encoded data removed]",
      "text/plain": [
       "<Figure size 640x480 with 1 Axes>"
      ]
     },
     "metadata": {},
     "output_type": "display_data"
    }
   ],
   "source": [
    "sns.histplot(filtered_submit_data[\"score\"])"
   ]
  },
  {
   "cell_type": "code",
   "execution_count": 23,
   "metadata": {
    "tags": []
   },
   "outputs": [
    {
     "data": {
      "text/html": [
       "<div>\n",
       "<style scoped>\n",
       "    .dataframe tbody tr th:only-of-type {\n",
       "        vertical-align: middle;\n",
       "    }\n",
       "\n",
       "    .dataframe tbody tr th {\n",
       "        vertical-align: top;\n",
       "    }\n",
       "\n",
       "    .dataframe thead th {\n",
       "        text-align: right;\n",
       "    }\n",
       "</style>\n",
       "<table border=\"1\" class=\"dataframe\">\n",
       "  <thead>\n",
       "    <tr style=\"text-align: right;\">\n",
       "      <th></th>\n",
       "      <th>user</th>\n",
       "      <th>track</th>\n",
       "      <th>score</th>\n",
       "    </tr>\n",
       "  </thead>\n",
       "  <tbody>\n",
       "    <tr>\n",
       "      <th>0</th>\n",
       "      <td>1</td>\n",
       "      <td>4218</td>\n",
       "      <td>0.616859</td>\n",
       "    </tr>\n",
       "    <tr>\n",
       "      <th>1</th>\n",
       "      <td>1</td>\n",
       "      <td>19007</td>\n",
       "      <td>0.036949</td>\n",
       "    </tr>\n",
       "    <tr>\n",
       "      <th>2</th>\n",
       "      <td>1</td>\n",
       "      <td>346</td>\n",
       "      <td>0.015737</td>\n",
       "    </tr>\n",
       "    <tr>\n",
       "      <th>3</th>\n",
       "      <td>1</td>\n",
       "      <td>8822</td>\n",
       "      <td>0.024019</td>\n",
       "    </tr>\n",
       "    <tr>\n",
       "      <th>4</th>\n",
       "      <td>1</td>\n",
       "      <td>29271</td>\n",
       "      <td>0.018666</td>\n",
       "    </tr>\n",
       "  </tbody>\n",
       "</table>\n",
       "</div>"
      ],
      "text/plain": [
       "   user  track     score\n",
       "0     1   4218  0.616859\n",
       "1     1  19007  0.036949\n",
       "2     1    346  0.015737\n",
       "3     1   8822  0.024019\n",
       "4     1  29271  0.018666"
      ]
     },
     "execution_count": 23,
     "metadata": {},
     "output_type": "execute_result"
    }
   ],
   "source": [
    "scored_submit_data = pd.merge(\n",
    "    submit_data,\n",
    "    filtered_submit_data,\n",
    "    left_on=[\"user\", \"track\"],\n",
    "    right_on=[\"user\", \"track\"],\n",
    "    how=\"left\"\n",
    ")\n",
    "\n",
    "# Fill missing scores with small random numbers\n",
    "scored_submit_data[\"score\"] = scored_submit_data[\"score\"].map(lambda s : np.random.random() * 0.05 if pd.isna(s) else s)\n",
    "\n",
    "scored_submit_data.head()"
   ]
  },
  {
   "cell_type": "code",
   "execution_count": 26,
   "metadata": {
    "tags": []
   },
   "outputs": [],
   "source": [
    "scored_submit_data.to_csv(\"/Users/n.anokhin/Desktop/submit.csv\", index=False)"
   ]
  },
  {
   "cell_type": "code",
   "execution_count": 29,
   "metadata": {
    "tags": []
   },
   "outputs": [
    {
     "name": "stdout",
     "output_type": "stream",
     "text": [
      "user,track,score\n",
      "1,4218,0.6168593168258667\n",
      "1,19007,0.0369488766430307\n",
      "1,346,0.015736635574270418\n",
      "1,8822,0.024018909909540427\n",
      "1,29271,0.018665504832163057\n",
      "1,43736,0.04012767515694496\n",
      "3,2298,0.531479001045227\n",
      "3,837,0.024650016499831347\n",
      "3,33028,0.0034220831576684653\n"
     ]
    }
   ],
   "source": [
    "%%sh \n",
    "head /Users/n.anokhin/Desktop/submit.csv"
   ]
  },
  {
   "cell_type": "code",
   "execution_count": null,
   "metadata": {},
   "outputs": [],
   "source": []
  }
 ],
 "metadata": {
  "kernelspec": {
   "display_name": "Python 3 (ipykernel)",
   "language": "python",
   "name": "python3"
  },
  "language_info": {
   "codemirror_mode": {
    "name": "ipython",
    "version": 3
   },
   "file_extension": ".py",
   "mimetype": "text/x-python",
   "name": "python",
   "nbconvert_exporter": "python",
   "pygments_lexer": "ipython3",
   "version": "3.8.0"
  }
 },
 "nbformat": 4,
 "nbformat_minor": 4
}
