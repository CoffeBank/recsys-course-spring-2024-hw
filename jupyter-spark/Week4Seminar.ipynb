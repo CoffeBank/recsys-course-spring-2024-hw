{
 "cells": [
  {
   "cell_type": "code",
   "execution_count": 1,
   "metadata": {
    "tags": []
   },
   "outputs": [],
   "source": [
    "from pyspark.sql import SparkSession\n",
    "\n",
    "import pyspark.sql.functions as spf\n",
    "\n",
    "from pyspark.ml.recommendation import ALS\n",
    "from pyspark.ml.evaluation import RegressionEvaluator"
   ]
  },
  {
   "cell_type": "code",
   "execution_count": 2,
   "metadata": {},
   "outputs": [
    {
     "data": {
      "text/html": [
       "\n",
       "            <div>\n",
       "                <p><b>SparkSession - in-memory</b></p>\n",
       "                \n",
       "        <div>\n",
       "            <p><b>SparkContext</b></p>\n",
       "\n",
       "            <p><a href=\"http://mipt-client.atp-fivt.org:4043\">Spark UI</a></p>\n",
       "\n",
       "            <dl>\n",
       "              <dt>Version</dt>\n",
       "                <dd><code>v2.4.0.cloudera2</code></dd>\n",
       "              <dt>Master</dt>\n",
       "                <dd><code>yarn</code></dd>\n",
       "              <dt>AppName</dt>\n",
       "                <dd><code>PySparkShell</code></dd>\n",
       "            </dl>\n",
       "        </div>\n",
       "        \n",
       "            </div>\n",
       "        "
      ],
      "text/plain": [
       "<pyspark.sql.session.SparkSession at 0x7f9fb26e7a90>"
      ]
     },
     "execution_count": 2,
     "metadata": {},
     "output_type": "execute_result"
    }
   ],
   "source": [
    "spark = SparkSession.builder.appName(\"anokhin\").getOrCreate()\n",
    "spark"
   ]
  },
  {
   "cell_type": "markdown",
   "metadata": {},
   "source": [
    "## Model Based Collaborative filtering\n",
    "\n",
    "### Собираем данные на Spark и сохраняем как pandas dataframe"
   ]
  },
  {
   "cell_type": "code",
   "execution_count": 3,
   "metadata": {},
   "outputs": [
    {
     "name": "stdout",
     "output_type": "stream",
     "text": [
      "+----+-----+----+-----+\n",
      "|user|track|time| test|\n",
      "+----+-----+----+-----+\n",
      "|8919|38622|0.99| true|\n",
      "|2803|12040| 1.0| true|\n",
      "|6263|19518| 1.0|false|\n",
      "|5109| 7098| 1.0|false|\n",
      "|  30| 1046| 1.0| true|\n",
      "|3300| 4460| 1.0|false|\n",
      "|9626|29437|0.91| true|\n",
      "|2910|  559| 1.0|false|\n",
      "|9924|18350| 1.0|false|\n",
      "|1925|  511| 1.0|false|\n",
      "+----+-----+----+-----+\n",
      "\n"
     ]
    }
   ],
   "source": [
    "data = (\n",
    "    spark.read.json(\"/user/anokhin/week03/*/data.json\")\n",
    "        .filter(spf.col(\"time\") > 0.8)\n",
    "        .select(\"user\", \"track\", \"time\")\n",
    "        .groupBy(\"user\", \"track\")\n",
    "        .agg(\n",
    "            spf.avg(\"time\").alias(\"time\")\n",
    "        )\n",
    "        .withColumn(\"test\", spf.rand() > 0.7)\n",
    ")\n",
    "\n",
    "data.limit(10).show()"
   ]
  },
  {
   "cell_type": "code",
   "execution_count": 4,
   "metadata": {
    "tags": []
   },
   "outputs": [],
   "source": [
    "data.toPandas().to_json(\"/home/anokhin/data/week04.json\", orient=\"records\", lines=True)"
   ]
  },
  {
   "cell_type": "markdown",
   "metadata": {},
   "source": [
    "### Обучаем ALS на Spark и сохраняем рекомендации"
   ]
  },
  {
   "cell_type": "code",
   "execution_count": 5,
   "metadata": {
    "tags": []
   },
   "outputs": [],
   "source": [
    "als = ALS(\n",
    "    rank=50,\n",
    "    maxIter=25, \n",
    "    regParam=0.1, \n",
    "    userCol=\"user\", \n",
    "    itemCol=\"track\", \n",
    "    ratingCol=\"time\",\n",
    "    coldStartStrategy=\"drop\",\n",
    ").fit(data.filter(spf.col(\"test\") == False))"
   ]
  },
  {
   "cell_type": "code",
   "execution_count": 6,
   "metadata": {},
   "outputs": [
    {
     "name": "stdout",
     "output_type": "stream",
     "text": [
      "Root-mean-square error = 0.10660422882594421\n"
     ]
    }
   ],
   "source": [
    "predictions = als.transform(data.filter(spf.col(\"test\") == True))\n",
    "\n",
    "evaluator = RegressionEvaluator(\n",
    "    metricName=\"rmse\", \n",
    "    labelCol=\"time\",\n",
    "    predictionCol=\"prediction\"\n",
    ")\n",
    "\n",
    "rmse = evaluator.evaluate(predictions)\n",
    "print(\"Root-mean-square error = \" + str(rmse))"
   ]
  },
  {
   "cell_type": "code",
   "execution_count": 7,
   "metadata": {
    "tags": []
   },
   "outputs": [],
   "source": [
    "(\n",
    "    als\n",
    "        .recommendForAllUsers(100)\n",
    "        .select(\n",
    "            spf.col(\"user\"),\n",
    "            spf.col(\"recommendations.track\").alias(\"tracks\")\n",
    "        )\n",
    ").toPandas().to_json(\"/home/anokhin/data/recomendations_als.json\", orient=\"records\", lines=True)"
   ]
  },
  {
   "cell_type": "markdown",
   "metadata": {},
   "source": [
    "### Train LightFM"
   ]
  },
  {
   "cell_type": "code",
   "execution_count": 45,
   "metadata": {
    "tags": []
   },
   "outputs": [],
   "source": [
    "import pandas as pd\n",
    "import numpy as np\n",
    "import scipy.stats as ss\n",
    "import scipy.special as sp\n",
    "\n",
    "import lightfm\n",
    "import lightfm.data as ld\n",
    "import lightfm.evaluation as lv\n",
    "\n",
    "import tqdm\n",
    "import json\n",
    "import optuna\n",
    "\n",
    "import tensorboardX as tb\n",
    "\n",
    "import matplotlib.pyplot as pl\n",
    "import seaborn as sns\n",
    "\n",
    "np.random.seed(31337)"
   ]
  },
  {
   "cell_type": "code",
   "execution_count": 3,
   "metadata": {
    "tags": []
   },
   "outputs": [
    {
     "data": {
      "text/html": [
       "<div>\n",
       "<style scoped>\n",
       "    .dataframe tbody tr th:only-of-type {\n",
       "        vertical-align: middle;\n",
       "    }\n",
       "\n",
       "    .dataframe tbody tr th {\n",
       "        vertical-align: top;\n",
       "    }\n",
       "\n",
       "    .dataframe thead th {\n",
       "        text-align: right;\n",
       "    }\n",
       "</style>\n",
       "<table border=\"1\" class=\"dataframe\">\n",
       "  <thead>\n",
       "    <tr style=\"text-align: right;\">\n",
       "      <th></th>\n",
       "      <th>user</th>\n",
       "      <th>track</th>\n",
       "      <th>time</th>\n",
       "      <th>test</th>\n",
       "    </tr>\n",
       "  </thead>\n",
       "  <tbody>\n",
       "    <tr>\n",
       "      <th>0</th>\n",
       "      <td>2697</td>\n",
       "      <td>3221</td>\n",
       "      <td>1.00</td>\n",
       "      <td>True</td>\n",
       "    </tr>\n",
       "    <tr>\n",
       "      <th>1</th>\n",
       "      <td>9080</td>\n",
       "      <td>10943</td>\n",
       "      <td>0.84</td>\n",
       "      <td>False</td>\n",
       "    </tr>\n",
       "    <tr>\n",
       "      <th>2</th>\n",
       "      <td>7865</td>\n",
       "      <td>3085</td>\n",
       "      <td>1.00</td>\n",
       "      <td>False</td>\n",
       "    </tr>\n",
       "    <tr>\n",
       "      <th>3</th>\n",
       "      <td>194</td>\n",
       "      <td>5292</td>\n",
       "      <td>1.00</td>\n",
       "      <td>False</td>\n",
       "    </tr>\n",
       "    <tr>\n",
       "      <th>4</th>\n",
       "      <td>108</td>\n",
       "      <td>743</td>\n",
       "      <td>1.00</td>\n",
       "      <td>False</td>\n",
       "    </tr>\n",
       "  </tbody>\n",
       "</table>\n",
       "</div>"
      ],
      "text/plain": [
       "   user  track  time   test\n",
       "0  2697   3221  1.00   True\n",
       "1  9080  10943  0.84  False\n",
       "2  7865   3085  1.00  False\n",
       "3   194   5292  1.00  False\n",
       "4   108    743  1.00  False"
      ]
     },
     "execution_count": 3,
     "metadata": {},
     "output_type": "execute_result"
    }
   ],
   "source": [
    "data = pd.read_json(\"/Users/n.anokhin/Desktop/week04.json\", lines=True)\n",
    "\n",
    "data.head()"
   ]
  },
  {
   "cell_type": "code",
   "execution_count": 6,
   "metadata": {
    "tags": []
   },
   "outputs": [
    {
     "data": {
      "text/plain": [
       "7534"
      ]
     },
     "execution_count": 6,
     "metadata": {},
     "output_type": "execute_result"
    }
   ],
   "source": [
    "user_counts = data.loc[~data[\"test\"], \"user\"].value_counts()\n",
    "users = set(user_counts[user_counts >= 5].index.values)\n",
    "\n",
    "len(users)"
   ]
  },
  {
   "cell_type": "code",
   "execution_count": 8,
   "metadata": {
    "tags": []
   },
   "outputs": [
    {
     "data": {
      "text/plain": [
       "3231"
      ]
     },
     "execution_count": 8,
     "metadata": {},
     "output_type": "execute_result"
    }
   ],
   "source": [
    "track_counts = data.loc[~data[\"test\"], \"track\"].value_counts()\n",
    "tracks = set(track_counts[track_counts >= 5].index.values)\n",
    "\n",
    "len(tracks)"
   ]
  },
  {
   "cell_type": "code",
   "execution_count": 10,
   "metadata": {
    "tags": []
   },
   "outputs": [
    {
     "data": {
      "text/plain": [
       "(31273, 10254)"
      ]
     },
     "execution_count": 10,
     "metadata": {},
     "output_type": "execute_result"
    }
   ],
   "source": [
    "train_data = data[~data[\"test\"] & data[\"user\"].isin(users) & data[\"track\"].isin(tracks)]\n",
    "test_data = data[data[\"test\"] & data[\"user\"].isin(users) & data[\"track\"].isin(tracks)]\n",
    "\n",
    "len(train_data), len(test_data)"
   ]
  },
  {
   "cell_type": "code",
   "execution_count": 11,
   "metadata": {
    "tags": []
   },
   "outputs": [],
   "source": [
    "dataset = ld.Dataset()\n",
    "dataset.fit(users, tracks)"
   ]
  },
  {
   "cell_type": "code",
   "execution_count": 12,
   "metadata": {
    "tags": []
   },
   "outputs": [],
   "source": [
    "train_interactions, _ = dataset.build_interactions(train_data[[\"user\", \"track\"]].itertuples(index=False, name=None))\n",
    "test_interactions, _ = dataset.build_interactions(test_data[[\"user\", \"track\"]].itertuples(index=False, name=None))"
   ]
  },
  {
   "cell_type": "code",
   "execution_count": 13,
   "metadata": {
    "tags": []
   },
   "outputs": [],
   "source": [
    "def fit_model(epochs=1, at=10, loss=\"warp\", no_components=30, learning_rate=0.01, max_sampled=10, user_alpha=0.0, item_alpha=0.0, threads=30, verbose=False):\n",
    "    model = lightfm.LightFM(\n",
    "        no_components=no_components,\n",
    "        loss=loss,\n",
    "        learning_rate=learning_rate,\n",
    "        max_sampled=max_sampled,\n",
    "        user_alpha=user_alpha,\n",
    "        item_alpha=user_alpha,\n",
    "    )\n",
    "\n",
    "    precisions_at = []\n",
    "    for epoch in range(epochs):\n",
    "        model = model.fit_partial(train_interactions, num_threads=threads)\n",
    "        precision_at = lv.precision_at_k(model, test_interactions, train_interactions=train_interactions, k=at, num_threads=threads)\n",
    "        if verbose:\n",
    "            print(f\"{epoch}:\\t{np.mean(precision_at)} +/- {ss.sem(precision_at) * 1.96}\")\n",
    "        precisions_at.append(np.mean(precision_at))\n",
    "            \n",
    "    return model, precisions_at\n",
    "\n",
    "\n",
    "def objective(trial):\n",
    "    loss = trial.suggest_categorical(\"loss\", [\"warp\", \"bpr\"])\n",
    "    no_components = trial.suggest_categorical(\"no_components\", [10, 30, 50])\n",
    "    learning_rate = trial.suggest_categorical(\"learning_rate\", [0.001, 0.01])\n",
    "    max_sampled = trial.suggest_categorical(\"max_sampled\", [10, 20, 50, 100])\n",
    "    user_alpha = trial.suggest_categorical(\"user_alpha\", [0.0, 0.001, 0.01])\n",
    "    item_alpha = trial.suggest_categorical(\"item_alpha\", [0.0, 0.001, 0.01])\n",
    "    \n",
    "    model, precisions_at = fit_model(\n",
    "        epochs=1, \n",
    "        at=10,\n",
    "        loss=loss,\n",
    "        no_components=no_components, \n",
    "        learning_rate=learning_rate, \n",
    "        max_sampled=max_sampled, \n",
    "        user_alpha=user_alpha, \n",
    "        item_alpha=item_alpha,\n",
    "    )\n",
    "    \n",
    "    return precisions_at[-1]\n"
   ]
  },
  {
   "cell_type": "code",
   "execution_count": 15,
   "metadata": {
    "tags": []
   },
   "outputs": [
    {
     "name": "stderr",
     "output_type": "stream",
     "text": [
      "\u001b[32m[I 2023-10-10 23:23:12,647]\u001b[0m A new study created in memory with name: no-name-0d74e7db-1ee8-463a-a103-1848cea36c26\u001b[0m\n",
      "\u001b[32m[I 2023-10-10 23:23:13,417]\u001b[0m Trial 0 finished with value: 0.008358265273272991 and parameters: {'loss': 'warp', 'no_components': 50, 'learning_rate': 0.01, 'max_sampled': 100, 'user_alpha': 0.0, 'item_alpha': 0.001}. Best is trial 0 with value: 0.008358265273272991.\u001b[0m\n",
      "\u001b[32m[I 2023-10-10 23:23:14,004]\u001b[0m Trial 1 finished with value: 0.008881825022399426 and parameters: {'loss': 'warp', 'no_components': 10, 'learning_rate': 0.01, 'max_sampled': 100, 'user_alpha': 0.0, 'item_alpha': 0.01}. Best is trial 1 with value: 0.008881825022399426.\u001b[0m\n",
      "\u001b[32m[I 2023-10-10 23:23:14,744]\u001b[0m Trial 2 finished with value: 0.008339566178619862 and parameters: {'loss': 'warp', 'no_components': 50, 'learning_rate': 0.001, 'max_sampled': 50, 'user_alpha': 0.001, 'item_alpha': 0.001}. Best is trial 1 with value: 0.008881825022399426.\u001b[0m\n",
      "\u001b[32m[I 2023-10-10 23:23:15,456]\u001b[0m Trial 3 finished with value: 0.008227374404668808 and parameters: {'loss': 'warp', 'no_components': 30, 'learning_rate': 0.001, 'max_sampled': 100, 'user_alpha': 0.0, 'item_alpha': 0.0}. Best is trial 1 with value: 0.008881825022399426.\u001b[0m\n",
      "\u001b[32m[I 2023-10-10 23:23:16,085]\u001b[0m Trial 4 finished with value: 0.0018137622391805053 and parameters: {'loss': 'bpr', 'no_components': 10, 'learning_rate': 0.01, 'max_sampled': 100, 'user_alpha': 0.001, 'item_alpha': 0.0}. Best is trial 1 with value: 0.008881825022399426.\u001b[0m\n",
      "\u001b[32m[I 2023-10-10 23:23:16,860]\u001b[0m Trial 5 finished with value: 0.0019446521764621139 and parameters: {'loss': 'bpr', 'no_components': 30, 'learning_rate': 0.001, 'max_sampled': 20, 'user_alpha': 0.01, 'item_alpha': 0.0}. Best is trial 1 with value: 0.008881825022399426.\u001b[0m\n",
      "\u001b[32m[I 2023-10-10 23:23:17,584]\u001b[0m Trial 6 finished with value: 0.008152580820024014 and parameters: {'loss': 'warp', 'no_components': 30, 'learning_rate': 0.01, 'max_sampled': 20, 'user_alpha': 0.001, 'item_alpha': 0.001}. Best is trial 1 with value: 0.008881825022399426.\u001b[0m\n",
      "\u001b[32m[I 2023-10-10 23:23:18,314]\u001b[0m Trial 7 finished with value: 0.0022438294254243374 and parameters: {'loss': 'bpr', 'no_components': 50, 'learning_rate': 0.001, 'max_sampled': 20, 'user_alpha': 0.01, 'item_alpha': 0.0}. Best is trial 1 with value: 0.008881825022399426.\u001b[0m\n",
      "\u001b[32m[I 2023-10-10 23:23:18,913]\u001b[0m Trial 8 finished with value: 0.00110321631655097 and parameters: {'loss': 'bpr', 'no_components': 10, 'learning_rate': 0.01, 'max_sampled': 100, 'user_alpha': 0.01, 'item_alpha': 0.01}. Best is trial 1 with value: 0.008881825022399426.\u001b[0m\n",
      "\u001b[32m[I 2023-10-10 23:23:19,676]\u001b[0m Trial 9 finished with value: 0.008246073499321938 and parameters: {'loss': 'warp', 'no_components': 50, 'learning_rate': 0.01, 'max_sampled': 10, 'user_alpha': 0.01, 'item_alpha': 0.01}. Best is trial 1 with value: 0.008881825022399426.\u001b[0m\n",
      "\u001b[32m[I 2023-10-10 23:23:20,295]\u001b[0m Trial 10 finished with value: 0.008638744242489338 and parameters: {'loss': 'warp', 'no_components': 10, 'learning_rate': 0.01, 'max_sampled': 10, 'user_alpha': 0.0, 'item_alpha': 0.01}. Best is trial 1 with value: 0.008881825022399426.\u001b[0m\n",
      "\u001b[32m[I 2023-10-10 23:23:20,960]\u001b[0m Trial 11 finished with value: 0.00841436069458723 and parameters: {'loss': 'warp', 'no_components': 10, 'learning_rate': 0.01, 'max_sampled': 10, 'user_alpha': 0.0, 'item_alpha': 0.01}. Best is trial 1 with value: 0.008881825022399426.\u001b[0m\n",
      "\u001b[32m[I 2023-10-10 23:23:21,587]\u001b[0m Trial 12 finished with value: 0.008264771662652493 and parameters: {'loss': 'warp', 'no_components': 10, 'learning_rate': 0.01, 'max_sampled': 10, 'user_alpha': 0.0, 'item_alpha': 0.01}. Best is trial 1 with value: 0.008881825022399426.\u001b[0m\n",
      "\u001b[32m[I 2023-10-10 23:23:22,197]\u001b[0m Trial 13 finished with value: 0.00852655153721571 and parameters: {'loss': 'warp', 'no_components': 10, 'learning_rate': 0.01, 'max_sampled': 50, 'user_alpha': 0.0, 'item_alpha': 0.01}. Best is trial 1 with value: 0.008881825022399426.\u001b[0m\n",
      "\u001b[32m[I 2023-10-10 23:23:22,784]\u001b[0m Trial 14 finished with value: 0.008171278983354568 and parameters: {'loss': 'warp', 'no_components': 10, 'learning_rate': 0.01, 'max_sampled': 10, 'user_alpha': 0.0, 'item_alpha': 0.01}. Best is trial 1 with value: 0.008881825022399426.\u001b[0m\n",
      "\u001b[32m[I 2023-10-10 23:23:23,440]\u001b[0m Trial 15 finished with value: 0.008339566178619862 and parameters: {'loss': 'warp', 'no_components': 10, 'learning_rate': 0.01, 'max_sampled': 10, 'user_alpha': 0.0, 'item_alpha': 0.01}. Best is trial 1 with value: 0.008881825022399426.\u001b[0m\n",
      "\u001b[32m[I 2023-10-10 23:23:24,038]\u001b[0m Trial 16 finished with value: 0.008526552468538284 and parameters: {'loss': 'warp', 'no_components': 10, 'learning_rate': 0.01, 'max_sampled': 100, 'user_alpha': 0.0, 'item_alpha': 0.01}. Best is trial 1 with value: 0.008881825022399426.\u001b[0m\n",
      "\u001b[32m[I 2023-10-10 23:23:24,679]\u001b[0m Trial 17 finished with value: 0.00841436069458723 and parameters: {'loss': 'warp', 'no_components': 10, 'learning_rate': 0.01, 'max_sampled': 50, 'user_alpha': 0.0, 'item_alpha': 0.01}. Best is trial 1 with value: 0.008881825022399426.\u001b[0m\n",
      "\u001b[32m[I 2023-10-10 23:23:25,304]\u001b[0m Trial 18 finished with value: 0.000766641809605062 and parameters: {'loss': 'bpr', 'no_components': 10, 'learning_rate': 0.001, 'max_sampled': 100, 'user_alpha': 0.0, 'item_alpha': 0.01}. Best is trial 1 with value: 0.008881825022399426.\u001b[0m\n",
      "\u001b[32m[I 2023-10-10 23:23:26,100]\u001b[0m Trial 19 finished with value: 0.008414361625909805 and parameters: {'loss': 'warp', 'no_components': 30, 'learning_rate': 0.01, 'max_sampled': 10, 'user_alpha': 0.001, 'item_alpha': 0.001}. Best is trial 1 with value: 0.008881825022399426.\u001b[0m\n",
      "\u001b[32m[I 2023-10-10 23:23:26,732]\u001b[0m Trial 20 finished with value: 0.008283470757305622 and parameters: {'loss': 'warp', 'no_components': 10, 'learning_rate': 0.01, 'max_sampled': 100, 'user_alpha': 0.0, 'item_alpha': 0.01}. Best is trial 1 with value: 0.008881825022399426.\u001b[0m\n",
      "\u001b[32m[I 2023-10-10 23:23:27,352]\u001b[0m Trial 21 finished with value: 0.008115183562040329 and parameters: {'loss': 'warp', 'no_components': 10, 'learning_rate': 0.01, 'max_sampled': 100, 'user_alpha': 0.0, 'item_alpha': 0.01}. Best is trial 1 with value: 0.008881825022399426.\u001b[0m\n",
      "\u001b[32m[I 2023-10-10 23:23:27,989]\u001b[0m Trial 22 finished with value: 0.008676140569150448 and parameters: {'loss': 'warp', 'no_components': 10, 'learning_rate': 0.01, 'max_sampled': 100, 'user_alpha': 0.0, 'item_alpha': 0.01}. Best is trial 1 with value: 0.008881825022399426.\u001b[0m\n",
      "\u001b[32m[I 2023-10-10 23:23:28,598]\u001b[0m Trial 23 finished with value: 0.008676140569150448 and parameters: {'loss': 'warp', 'no_components': 10, 'learning_rate': 0.01, 'max_sampled': 100, 'user_alpha': 0.0, 'item_alpha': 0.01}. Best is trial 1 with value: 0.008881825022399426.\u001b[0m\n",
      "\u001b[32m[I 2023-10-10 23:23:29,239]\u001b[0m Trial 24 finished with value: 0.008133881725370884 and parameters: {'loss': 'warp', 'no_components': 10, 'learning_rate': 0.01, 'max_sampled': 100, 'user_alpha': 0.0, 'item_alpha': 0.01}. Best is trial 1 with value: 0.008881825022399426.\u001b[0m\n",
      "\u001b[32m[I 2023-10-10 23:23:29,904]\u001b[0m Trial 25 finished with value: 0.008451757952570915 and parameters: {'loss': 'warp', 'no_components': 10, 'learning_rate': 0.01, 'max_sampled': 100, 'user_alpha': 0.0, 'item_alpha': 0.01}. Best is trial 1 with value: 0.008881825022399426.\u001b[0m\n",
      "\u001b[32m[I 2023-10-10 23:23:30,545]\u001b[0m Trial 26 finished with value: 0.000710546039044857 and parameters: {'loss': 'bpr', 'no_components': 10, 'learning_rate': 0.001, 'max_sampled': 100, 'user_alpha': 0.0, 'item_alpha': 0.01}. Best is trial 1 with value: 0.008881825022399426.\u001b[0m\n",
      "\u001b[32m[I 2023-10-10 23:23:31,156]\u001b[0m Trial 27 finished with value: 0.008077786304056644 and parameters: {'loss': 'warp', 'no_components': 10, 'learning_rate': 0.01, 'max_sampled': 100, 'user_alpha': 0.0, 'item_alpha': 0.01}. Best is trial 1 with value: 0.008881825022399426.\u001b[0m\n",
      "\u001b[32m[I 2023-10-10 23:23:31,908]\u001b[0m Trial 28 finished with value: 0.008208676241338253 and parameters: {'loss': 'warp', 'no_components': 50, 'learning_rate': 0.01, 'max_sampled': 100, 'user_alpha': 0.01, 'item_alpha': 0.0}. Best is trial 1 with value: 0.008881825022399426.\u001b[0m\n",
      "\u001b[32m[I 2023-10-10 23:23:32,628]\u001b[0m Trial 29 finished with value: 0.007778608705848455 and parameters: {'loss': 'warp', 'no_components': 30, 'learning_rate': 0.01, 'max_sampled': 100, 'user_alpha': 0.001, 'item_alpha': 0.001}. Best is trial 1 with value: 0.008881825022399426.\u001b[0m\n"
     ]
    },
    {
     "data": {
      "text/plain": [
       "{'loss': 'warp',\n",
       " 'no_components': 10,\n",
       " 'learning_rate': 0.01,\n",
       " 'max_sampled': 100,\n",
       " 'user_alpha': 0.0,\n",
       " 'item_alpha': 0.01}"
      ]
     },
     "execution_count": 15,
     "metadata": {},
     "output_type": "execute_result"
    }
   ],
   "source": [
    "study = optuna.create_study(direction=\"maximize\")\n",
    "study.optimize(objective, n_trials=30)\n",
    "best_params = study.best_params\n",
    "\n",
    "best_params"
   ]
  },
  {
   "cell_type": "code",
   "execution_count": 16,
   "metadata": {
    "tags": []
   },
   "outputs": [],
   "source": [
    "best_params = {'loss': 'warp',\n",
    " 'no_components': 50,\n",
    " 'learning_rate': 0.01,\n",
    " 'max_sampled': 100,\n",
    " 'user_alpha': 0.0,\n",
    " 'item_alpha': 0.01}"
   ]
  },
  {
   "cell_type": "code",
   "execution_count": 17,
   "metadata": {
    "tags": []
   },
   "outputs": [
    {
     "name": "stdout",
     "output_type": "stream",
     "text": [
      "0:\t0.008096485398709774 +/- 0.0008096353854552563\n",
      "1:\t0.008246073499321938 +/- 0.0008217346398828953\n",
      "2:\t0.008433058857917786 +/- 0.0008349782024998294\n",
      "3:\t0.008788332343101501 +/- 0.0008522781634206281\n",
      "4:\t0.009723260998725891 +/- 0.0009078017220636788\n",
      "5:\t0.010882573202252388 +/- 0.0009839465909051652\n",
      "6:\t0.011686611920595169 +/- 0.0010183622013500747\n",
      "7:\t0.012490651570260525 +/- 0.0010639134750582493\n",
      "8:\t0.013556470163166523 +/- 0.0010938929318378087\n",
      "9:\t0.014921466819941998 +/- 0.0011444352902746002\n",
      "10:\t0.016529543325304985 +/- 0.0012066898092685224\n",
      "11:\t0.01780104637145996 +/- 0.0012550701530878283\n",
      "12:\t0.018904265016317368 +/- 0.001294766095344889\n",
      "13:\t0.019951384514570236 +/- 0.001330707416760972\n",
      "14:\t0.020979806780815125 +/- 0.0013668076892840576\n",
      "15:\t0.021970830857753754 +/- 0.0013912769741457373\n",
      "16:\t0.022606581449508667 +/- 0.0014070444846483003\n",
      "17:\t0.023560209199786186 +/- 0.0014351469804601816\n",
      "18:\t0.024289453402161598 +/- 0.0014492771547794927\n",
      "19:\t0.025411367416381836 +/- 0.001474174269725033\n",
      "20:\t0.026178009808063507 +/- 0.0014904192326105653\n",
      "21:\t0.0267389677464962 +/- 0.0015039347693578233\n",
      "22:\t0.027094239369034767 +/- 0.001514071097426371\n",
      "23:\t0.0276178028434515 +/- 0.0015232182743535397\n",
      "24:\t0.028290949761867523 +/- 0.0015380830983244373\n",
      "25:\t0.028889304026961327 +/- 0.001551000371859911\n",
      "26:\t0.029674647375941277 +/- 0.0015628229595051981\n",
      "27:\t0.03029169701039791 +/- 0.001575327978567799\n",
      "28:\t0.030759163200855255 +/- 0.0015811746236204772\n",
      "29:\t0.03124532662332058 +/- 0.0015904420123144995\n",
      "30:\t0.03184368088841438 +/- 0.0016013062006657419\n",
      "31:\t0.0321054607629776 +/- 0.0016042594762901343\n",
      "32:\t0.03242333605885506 +/- 0.0016092886014532788\n",
      "33:\t0.03302169218659401 +/- 0.0016180540760675887\n",
      "34:\t0.033451758325099945 +/- 0.00162208057119523\n",
      "35:\t0.03384442999958992 +/- 0.0016331686090325904\n",
      "36:\t0.034349292516708374 +/- 0.001639976748532779\n",
      "37:\t0.03477935492992401 +/- 0.0016461499821978983\n",
      "38:\t0.035284217447042465 +/- 0.0016583799319767098\n",
      "39:\t0.03556469827890396 +/- 0.0016593406276749383\n",
      "40:\t0.03591997176408768 +/- 0.0016704026063169926\n",
      "41:\t0.036069560796022415 +/- 0.0016680850352769506\n",
      "42:\t0.036237847059965134 +/- 0.001674713156657839\n",
      "43:\t0.03666791319847107 +/- 0.0016852014336285128\n",
      "44:\t0.03691099211573601 +/- 0.0016833806846415144\n",
      "45:\t0.03739715740084648 +/- 0.00168843297353382\n",
      "46:\t0.03773373365402222 +/- 0.0016918016986282114\n",
      "47:\t0.038107700645923615 +/- 0.0017032104343020623\n",
      "48:\t0.03835078701376915 +/- 0.0017044169450916482\n",
      "49:\t0.03853777050971985 +/- 0.0017029626223375015\n",
      "50:\t0.03891174495220184 +/- 0.0017126029271022874\n",
      "51:\t0.03926701471209526 +/- 0.0017150117552477316\n",
      "52:\t0.03952879458665848 +/- 0.0017185208605283325\n",
      "53:\t0.039697084575891495 +/- 0.0017223742267492258\n",
      "54:\t0.03984667360782623 +/- 0.001723012427425081\n",
      "55:\t0.03992146626114845 +/- 0.0017311059542063955\n",
      "56:\t0.04025804251432419 +/- 0.001730161632868436\n",
      "57:\t0.04037023335695267 +/- 0.0017282823754965738\n",
      "58:\t0.040519822388887405 +/- 0.0017343073413263294\n",
      "59:\t0.040669407695531845 +/- 0.00173334065500849\n",
      "60:\t0.04091249406337738 +/- 0.0017358169774682145\n",
      "61:\t0.04100598767399788 +/- 0.0017423459540945464\n",
      "62:\t0.04113687202334404 +/- 0.0017420568068546721\n",
      "63:\t0.041361257433891296 +/- 0.001745946915542511\n",
      "64:\t0.041548244655132294 +/- 0.0017519802682397214\n",
      "65:\t0.04179132729768753 +/- 0.0017558735719246856\n",
      "66:\t0.04192221537232399 +/- 0.001759366502532338\n",
      "67:\t0.04194091260433197 +/- 0.0017594282059143276\n",
      "68:\t0.04201570898294449 +/- 0.0017596730225690833\n",
      "69:\t0.04212789982557297 +/- 0.0017577448418037338\n",
      "70:\t0.04222138971090317 +/- 0.0017603347863487401\n",
      "71:\t0.04225878790020943 +/- 0.0017581625876779167\n",
      "72:\t0.042464472353458405 +/- 0.0017626194089809233\n",
      "73:\t0.04270755127072334 +/- 0.0017663986912059648\n",
      "74:\t0.04276365041732788 +/- 0.0017696034730103449\n",
      "75:\t0.0428384467959404 +/- 0.0017683035085548327\n",
      "76:\t0.04295063763856888 +/- 0.001772421061100556\n",
      "77:\t0.04304413124918938 +/- 0.0017719284324812397\n",
      "78:\t0.043137624859809875 +/- 0.0017729482356262935\n",
      "79:\t0.04336201027035713 +/- 0.0017796114021319043\n",
      "80:\t0.04347419738769531 +/- 0.0017821723920154592\n",
      "81:\t0.04353029280900955 +/- 0.0017845790236003794\n",
      "82:\t0.04353029280900955 +/- 0.001785331645110798\n",
      "83:\t0.04366118088364601 +/- 0.0017864211391306558\n",
      "84:\t0.04375467449426651 +/- 0.001789662863089301\n",
      "85:\t0.04394166171550751 +/- 0.0017916247910117905\n",
      "86:\t0.044016458094120026 +/- 0.0017873011611514607\n",
      "87:\t0.044184744358062744 +/- 0.001791453658978246\n",
      "88:\t0.04437173157930374 +/- 0.0017948790952716184\n",
      "89:\t0.0445961095392704 +/- 0.0017961227479027903\n",
      "90:\t0.04463351145386696 +/- 0.0017969510509076234\n",
      "91:\t0.04467090219259262 +/- 0.0017985253857413035\n",
      "92:\t0.0445961095392704 +/- 0.0017961227479027903\n",
      "93:\t0.04467090219259262 +/- 0.0017992722163194317\n",
      "94:\t0.04467090591788292 +/- 0.0018000186475229192\n",
      "95:\t0.04472700133919716 +/- 0.0018008836929946977\n",
      "96:\t0.0447831004858017 +/- 0.0018039822411446487\n",
      "97:\t0.044913988560438156 +/- 0.0018035059868856016\n",
      "98:\t0.04480179771780968 +/- 0.0018032759470925526\n",
      "99:\t0.04472700133919716 +/- 0.0018001374614785308\n"
     ]
    }
   ],
   "source": [
    "model, precisions_at = fit_model(\n",
    "    epochs=100,\n",
    "    at=10,\n",
    "    loss=best_params[\"loss\"],\n",
    "    no_components=best_params[\"no_components\"], \n",
    "    learning_rate=best_params[\"learning_rate\"], \n",
    "    max_sampled=best_params[\"max_sampled\"],\n",
    "    user_alpha=best_params[\"user_alpha\"],\n",
    "    item_alpha=best_params[\"item_alpha\"],\n",
    "    verbose=True,\n",
    ")"
   ]
  },
  {
   "cell_type": "code",
   "execution_count": 19,
   "metadata": {
    "tags": []
   },
   "outputs": [
    {
     "data": {
      "image/png": "[encoded data removed]",
      "text/plain": [
       "<Figure size 640x480 with 1 Axes>"
      ]
     },
     "metadata": {},
     "output_type": "display_data"
    }
   ],
   "source": [
    "figure, ax = pl.subplots()\n",
    "\n",
    "ax.plot(np.arange(len(precisions_at)), precisions_at)\n",
    "\n",
    "pass"
   ]
  },
  {
   "cell_type": "code",
   "execution_count": 47,
   "metadata": {
    "tags": []
   },
   "outputs": [
    {
     "data": {
      "text/plain": [
       "1.0315118853116914"
      ]
     },
     "execution_count": 47,
     "metadata": {},
     "output_type": "execute_result"
    }
   ],
   "source": [
    "predictions = model.predict(\n",
    "    test_data[\"user\"].map(dataset.mapping()[0]).values,\n",
    "    test_data[\"track\"].map(dataset.mapping()[2]).values,\n",
    ")\n",
    "\n",
    "rmse = np.sqrt(((predictions - test_data[\"time\"].values) * (predictions - test_data[\"time\"].values)).mean())\n",
    "rmse # Q: ???"
   ]
  },
  {
   "cell_type": "markdown",
   "metadata": {},
   "source": [
    "## Save track embeddings"
   ]
  },
  {
   "cell_type": "code",
   "execution_count": 22,
   "metadata": {
    "tags": []
   },
   "outputs": [],
   "source": [
    "BOTIFY_DATA_DIR = \"/Users/n.anokhin/Projects/recsys-course/botify/data/\""
   ]
  },
  {
   "cell_type": "code",
   "execution_count": 23,
   "metadata": {
    "tags": []
   },
   "outputs": [],
   "source": [
    "biases, embeddings = model.get_item_representations()"
   ]
  },
  {
   "cell_type": "code",
   "execution_count": 24,
   "metadata": {
    "tags": []
   },
   "outputs": [],
   "source": [
    "track_meta = pd.read_json(BOTIFY_DATA_DIR + \"tracks.json\", lines=True)\n",
    "track_meta[\"dataset_index\"] = track_meta[\"track\"].map(lambda t: dataset.mapping()[2].get(t))"
   ]
  },
  {
   "cell_type": "code",
   "execution_count": 25,
   "metadata": {
    "tags": []
   },
   "outputs": [],
   "source": [
    "dataset_tracks = track_meta[pd.notnull(track_meta[\"dataset_index\"])].sort_values(\"dataset_index\")"
   ]
  },
  {
   "cell_type": "code",
   "execution_count": 28,
   "metadata": {
    "tags": []
   },
   "outputs": [
    {
     "name": "stdout",
     "output_type": "stream",
     "text": [
      "warning: Embedding dir exists, did you set global_step for add_embedding()?\n"
     ]
    }
   ],
   "source": [
    "writer = tb.SummaryWriter(comment='msd_ligtfm_embeddings', log_dir=\"/Users/n.anokhin/Desktop/tb\")\n",
    "writer.add_embedding(embeddings, metadata=list(dataset_tracks[[\"artist\", \"title\"]].itertuples(index=False, name=None)), tag=\"lightfm\", metadata_header=[\"artist\", \"title\"])\n",
    "writer.close()"
   ]
  },
  {
   "cell_type": "markdown",
   "metadata": {},
   "source": [
    "## Compute top recommendations"
   ]
  },
  {
   "cell_type": "code",
   "execution_count": 29,
   "metadata": {
    "tags": []
   },
   "outputs": [],
   "source": [
    "tracks = dataset_tracks[\"track\"].values\n",
    "users = [user for user, index in sorted(dataset.mapping()[0].items(), key=lambda kv: kv[1])]"
   ]
  },
  {
   "cell_type": "code",
   "execution_count": 30,
   "metadata": {
    "tags": []
   },
   "outputs": [
    {
     "data": {
      "text/plain": [
       "array([-0.91547966, -0.3986804 , -1.2493805 , ..., -0.10818789,\n",
       "        1.7828356 , -0.3263796 ], dtype=float32)"
      ]
     },
     "execution_count": 30,
     "metadata": {},
     "output_type": "execute_result"
    }
   ],
   "source": [
    "predictions = model.predict(1, np.arange(dataset.item_features_shape()[0]), num_threads=30)\n",
    "predictions"
   ]
  },
  {
   "cell_type": "code",
   "execution_count": 32,
   "metadata": {
    "tags": []
   },
   "outputs": [
    {
     "name": "stderr",
     "output_type": "stream",
     "text": [
      "100%|█████████████████████████████████████████████████████████████████████████████████████████████████████████████████████████████████████████████████████████████████| 7534/7534 [00:04<00:00, 1867.89it/s]\n"
     ]
    }
   ],
   "source": [
    "with open(BOTIFY_DATA_DIR + \"recommendations_lfm.json\", \"w\") as rf:\n",
    "    for user_index in tqdm.tqdm(range(dataset.user_features_shape()[0])):\n",
    "        predictions = model.predict(user_index, np.arange(dataset.item_features_shape()[0]), num_threads=30)\n",
    "        top = tracks[np.argsort(predictions)[-100:]]\n",
    "        recommendation = {\n",
    "            \"user\": int(users[user_index]),\n",
    "            \"tracks\": top.tolist()\n",
    "        }\n",
    "        rf.write(json.dumps(recommendation) + \"\\n\")"
   ]
  },
  {
   "cell_type": "code",
   "execution_count": null,
   "metadata": {
    "tags": []
   },
   "outputs": [],
   "source": []
  }
 ],
 "metadata": {
  "kernelspec": {
   "display_name": "Python 3 (ipykernel)",
   "language": "python",
   "name": "python3"
  },
  "language_info": {
   "codemirror_mode": {
    "name": "ipython",
    "version": 3
   },
   "file_extension": ".py",
   "mimetype": "text/x-python",
   "name": "python",
   "nbconvert_exporter": "python",
   "pygments_lexer": "ipython3",
   "version": "3.8.0"
  }
 },
 "nbformat": 4,
 "nbformat_minor": 4
}
